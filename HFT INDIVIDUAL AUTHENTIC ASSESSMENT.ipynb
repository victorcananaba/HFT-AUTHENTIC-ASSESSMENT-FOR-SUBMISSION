{
 "cells": [
  {
   "cell_type": "code",
   "execution_count": 1,
   "id": "9538d134",
   "metadata": {},
   "outputs": [],
   "source": [
    "import numpy as np\n",
    "import pandas as pd\n",
    "import yfinance as yf\n",
    "import matplotlib.pyplot as plt\n",
    "from scipy.stats import linregress"
   ]
  },
  {
   "cell_type": "code",
   "execution_count": 2,
   "id": "6964f23f",
   "metadata": {},
   "outputs": [
    {
     "name": "stdout",
     "output_type": "stream",
     "text": [
      "[*********************100%***********************]  1 of 1 completed\n"
     ]
    }
   ],
   "source": [
    "BTC = yf.download('BTC-USD', start='2022-12-23', end='2022-12-24',  interval = '1m')"
   ]
  },
  {
   "cell_type": "code",
   "execution_count": 3,
   "id": "12b5da59",
   "metadata": {},
   "outputs": [
    {
     "data": {
      "text/html": [
       "<div>\n",
       "<style scoped>\n",
       "    .dataframe tbody tr th:only-of-type {\n",
       "        vertical-align: middle;\n",
       "    }\n",
       "\n",
       "    .dataframe tbody tr th {\n",
       "        vertical-align: top;\n",
       "    }\n",
       "\n",
       "    .dataframe thead th {\n",
       "        text-align: right;\n",
       "    }\n",
       "</style>\n",
       "<table border=\"1\" class=\"dataframe\">\n",
       "  <thead>\n",
       "    <tr style=\"text-align: right;\">\n",
       "      <th></th>\n",
       "      <th>Open</th>\n",
       "      <th>High</th>\n",
       "      <th>Low</th>\n",
       "      <th>Close</th>\n",
       "      <th>Adj Close</th>\n",
       "      <th>Volume</th>\n",
       "    </tr>\n",
       "    <tr>\n",
       "      <th>Datetime</th>\n",
       "      <th></th>\n",
       "      <th></th>\n",
       "      <th></th>\n",
       "      <th></th>\n",
       "      <th></th>\n",
       "      <th></th>\n",
       "    </tr>\n",
       "  </thead>\n",
       "  <tbody>\n",
       "    <tr>\n",
       "      <th>2022-12-23 00:00:00+00:00</th>\n",
       "      <td>16829.644531</td>\n",
       "      <td>16829.644531</td>\n",
       "      <td>16829.644531</td>\n",
       "      <td>16829.644531</td>\n",
       "      <td>16829.644531</td>\n",
       "      <td>0</td>\n",
       "    </tr>\n",
       "    <tr>\n",
       "      <th>2022-12-23 00:01:00+00:00</th>\n",
       "      <td>16832.597656</td>\n",
       "      <td>16832.597656</td>\n",
       "      <td>16832.597656</td>\n",
       "      <td>16832.597656</td>\n",
       "      <td>16832.597656</td>\n",
       "      <td>0</td>\n",
       "    </tr>\n",
       "    <tr>\n",
       "      <th>2022-12-23 00:02:00+00:00</th>\n",
       "      <td>16832.523438</td>\n",
       "      <td>16832.523438</td>\n",
       "      <td>16832.523438</td>\n",
       "      <td>16832.523438</td>\n",
       "      <td>16832.523438</td>\n",
       "      <td>766976</td>\n",
       "    </tr>\n",
       "    <tr>\n",
       "      <th>2022-12-23 00:03:00+00:00</th>\n",
       "      <td>16834.488281</td>\n",
       "      <td>16834.488281</td>\n",
       "      <td>16834.488281</td>\n",
       "      <td>16834.488281</td>\n",
       "      <td>16834.488281</td>\n",
       "      <td>0</td>\n",
       "    </tr>\n",
       "    <tr>\n",
       "      <th>2022-12-23 00:04:00+00:00</th>\n",
       "      <td>16825.230469</td>\n",
       "      <td>16825.230469</td>\n",
       "      <td>16825.230469</td>\n",
       "      <td>16825.230469</td>\n",
       "      <td>16825.230469</td>\n",
       "      <td>0</td>\n",
       "    </tr>\n",
       "    <tr>\n",
       "      <th>...</th>\n",
       "      <td>...</td>\n",
       "      <td>...</td>\n",
       "      <td>...</td>\n",
       "      <td>...</td>\n",
       "      <td>...</td>\n",
       "      <td>...</td>\n",
       "    </tr>\n",
       "    <tr>\n",
       "      <th>2022-12-23 23:55:00+00:00</th>\n",
       "      <td>16796.691406</td>\n",
       "      <td>16796.691406</td>\n",
       "      <td>16796.691406</td>\n",
       "      <td>16796.691406</td>\n",
       "      <td>16796.691406</td>\n",
       "      <td>7209984</td>\n",
       "    </tr>\n",
       "    <tr>\n",
       "      <th>2022-12-23 23:56:00+00:00</th>\n",
       "      <td>16797.160156</td>\n",
       "      <td>16797.160156</td>\n",
       "      <td>16797.160156</td>\n",
       "      <td>16797.160156</td>\n",
       "      <td>16797.160156</td>\n",
       "      <td>284672</td>\n",
       "    </tr>\n",
       "    <tr>\n",
       "      <th>2022-12-23 23:57:00+00:00</th>\n",
       "      <td>16796.890625</td>\n",
       "      <td>16796.890625</td>\n",
       "      <td>16796.890625</td>\n",
       "      <td>16796.890625</td>\n",
       "      <td>16796.890625</td>\n",
       "      <td>0</td>\n",
       "    </tr>\n",
       "    <tr>\n",
       "      <th>2022-12-23 23:58:00+00:00</th>\n",
       "      <td>16796.578125</td>\n",
       "      <td>16796.578125</td>\n",
       "      <td>16796.578125</td>\n",
       "      <td>16796.578125</td>\n",
       "      <td>16796.578125</td>\n",
       "      <td>16161792</td>\n",
       "    </tr>\n",
       "    <tr>\n",
       "      <th>2022-12-24 00:00:00+00:00</th>\n",
       "      <td>16796.976562</td>\n",
       "      <td>16796.976562</td>\n",
       "      <td>16796.976562</td>\n",
       "      <td>16796.976562</td>\n",
       "      <td>16796.976562</td>\n",
       "      <td>0</td>\n",
       "    </tr>\n",
       "  </tbody>\n",
       "</table>\n",
       "<p>1430 rows × 6 columns</p>\n",
       "</div>"
      ],
      "text/plain": [
       "                                   Open          High           Low  \\\n",
       "Datetime                                                              \n",
       "2022-12-23 00:00:00+00:00  16829.644531  16829.644531  16829.644531   \n",
       "2022-12-23 00:01:00+00:00  16832.597656  16832.597656  16832.597656   \n",
       "2022-12-23 00:02:00+00:00  16832.523438  16832.523438  16832.523438   \n",
       "2022-12-23 00:03:00+00:00  16834.488281  16834.488281  16834.488281   \n",
       "2022-12-23 00:04:00+00:00  16825.230469  16825.230469  16825.230469   \n",
       "...                                 ...           ...           ...   \n",
       "2022-12-23 23:55:00+00:00  16796.691406  16796.691406  16796.691406   \n",
       "2022-12-23 23:56:00+00:00  16797.160156  16797.160156  16797.160156   \n",
       "2022-12-23 23:57:00+00:00  16796.890625  16796.890625  16796.890625   \n",
       "2022-12-23 23:58:00+00:00  16796.578125  16796.578125  16796.578125   \n",
       "2022-12-24 00:00:00+00:00  16796.976562  16796.976562  16796.976562   \n",
       "\n",
       "                                  Close     Adj Close    Volume  \n",
       "Datetime                                                         \n",
       "2022-12-23 00:00:00+00:00  16829.644531  16829.644531         0  \n",
       "2022-12-23 00:01:00+00:00  16832.597656  16832.597656         0  \n",
       "2022-12-23 00:02:00+00:00  16832.523438  16832.523438    766976  \n",
       "2022-12-23 00:03:00+00:00  16834.488281  16834.488281         0  \n",
       "2022-12-23 00:04:00+00:00  16825.230469  16825.230469         0  \n",
       "...                                 ...           ...       ...  \n",
       "2022-12-23 23:55:00+00:00  16796.691406  16796.691406   7209984  \n",
       "2022-12-23 23:56:00+00:00  16797.160156  16797.160156    284672  \n",
       "2022-12-23 23:57:00+00:00  16796.890625  16796.890625         0  \n",
       "2022-12-23 23:58:00+00:00  16796.578125  16796.578125  16161792  \n",
       "2022-12-24 00:00:00+00:00  16796.976562  16796.976562         0  \n",
       "\n",
       "[1430 rows x 6 columns]"
      ]
     },
     "execution_count": 3,
     "metadata": {},
     "output_type": "execute_result"
    }
   ],
   "source": [
    "BTC"
   ]
  },
  {
   "cell_type": "code",
   "execution_count": 4,
   "id": "40ff0509",
   "metadata": {},
   "outputs": [
    {
     "data": {
      "text/html": [
       "<div>\n",
       "<style scoped>\n",
       "    .dataframe tbody tr th:only-of-type {\n",
       "        vertical-align: middle;\n",
       "    }\n",
       "\n",
       "    .dataframe tbody tr th {\n",
       "        vertical-align: top;\n",
       "    }\n",
       "\n",
       "    .dataframe thead th {\n",
       "        text-align: right;\n",
       "    }\n",
       "</style>\n",
       "<table border=\"1\" class=\"dataframe\">\n",
       "  <thead>\n",
       "    <tr style=\"text-align: right;\">\n",
       "      <th></th>\n",
       "      <th>Open</th>\n",
       "      <th>High</th>\n",
       "      <th>Low</th>\n",
       "      <th>Close</th>\n",
       "      <th>Adj Close</th>\n",
       "      <th>Volume</th>\n",
       "    </tr>\n",
       "  </thead>\n",
       "  <tbody>\n",
       "    <tr>\n",
       "      <th>count</th>\n",
       "      <td>1430.000000</td>\n",
       "      <td>1430.000000</td>\n",
       "      <td>1430.000000</td>\n",
       "      <td>1430.000000</td>\n",
       "      <td>1430.000000</td>\n",
       "      <td>1.430000e+03</td>\n",
       "    </tr>\n",
       "    <tr>\n",
       "      <th>mean</th>\n",
       "      <td>16838.022361</td>\n",
       "      <td>16838.022361</td>\n",
       "      <td>16838.022361</td>\n",
       "      <td>16838.022361</td>\n",
       "      <td>16838.022361</td>\n",
       "      <td>2.701560e+06</td>\n",
       "    </tr>\n",
       "    <tr>\n",
       "      <th>std</th>\n",
       "      <td>22.068633</td>\n",
       "      <td>22.068633</td>\n",
       "      <td>22.068633</td>\n",
       "      <td>22.068633</td>\n",
       "      <td>22.068633</td>\n",
       "      <td>8.656438e+06</td>\n",
       "    </tr>\n",
       "    <tr>\n",
       "      <th>min</th>\n",
       "      <td>16794.458984</td>\n",
       "      <td>16794.458984</td>\n",
       "      <td>16794.458984</td>\n",
       "      <td>16794.458984</td>\n",
       "      <td>16794.458984</td>\n",
       "      <td>0.000000e+00</td>\n",
       "    </tr>\n",
       "    <tr>\n",
       "      <th>25%</th>\n",
       "      <td>16821.088867</td>\n",
       "      <td>16821.088867</td>\n",
       "      <td>16821.088867</td>\n",
       "      <td>16821.088867</td>\n",
       "      <td>16821.088867</td>\n",
       "      <td>0.000000e+00</td>\n",
       "    </tr>\n",
       "    <tr>\n",
       "      <th>50%</th>\n",
       "      <td>16841.272461</td>\n",
       "      <td>16841.272461</td>\n",
       "      <td>16841.272461</td>\n",
       "      <td>16841.272461</td>\n",
       "      <td>16841.272461</td>\n",
       "      <td>0.000000e+00</td>\n",
       "    </tr>\n",
       "    <tr>\n",
       "      <th>75%</th>\n",
       "      <td>16853.174805</td>\n",
       "      <td>16853.174805</td>\n",
       "      <td>16853.174805</td>\n",
       "      <td>16853.174805</td>\n",
       "      <td>16853.174805</td>\n",
       "      <td>2.201600e+06</td>\n",
       "    </tr>\n",
       "    <tr>\n",
       "      <th>max</th>\n",
       "      <td>16905.218750</td>\n",
       "      <td>16905.218750</td>\n",
       "      <td>16905.218750</td>\n",
       "      <td>16905.218750</td>\n",
       "      <td>16905.218750</td>\n",
       "      <td>1.941965e+08</td>\n",
       "    </tr>\n",
       "  </tbody>\n",
       "</table>\n",
       "</div>"
      ],
      "text/plain": [
       "               Open          High           Low         Close     Adj Close  \\\n",
       "count   1430.000000   1430.000000   1430.000000   1430.000000   1430.000000   \n",
       "mean   16838.022361  16838.022361  16838.022361  16838.022361  16838.022361   \n",
       "std       22.068633     22.068633     22.068633     22.068633     22.068633   \n",
       "min    16794.458984  16794.458984  16794.458984  16794.458984  16794.458984   \n",
       "25%    16821.088867  16821.088867  16821.088867  16821.088867  16821.088867   \n",
       "50%    16841.272461  16841.272461  16841.272461  16841.272461  16841.272461   \n",
       "75%    16853.174805  16853.174805  16853.174805  16853.174805  16853.174805   \n",
       "max    16905.218750  16905.218750  16905.218750  16905.218750  16905.218750   \n",
       "\n",
       "             Volume  \n",
       "count  1.430000e+03  \n",
       "mean   2.701560e+06  \n",
       "std    8.656438e+06  \n",
       "min    0.000000e+00  \n",
       "25%    0.000000e+00  \n",
       "50%    0.000000e+00  \n",
       "75%    2.201600e+06  \n",
       "max    1.941965e+08  "
      ]
     },
     "execution_count": 4,
     "metadata": {},
     "output_type": "execute_result"
    }
   ],
   "source": [
    "BTC.describe()"
   ]
  },
  {
   "cell_type": "code",
   "execution_count": 5,
   "id": "a72e4d28",
   "metadata": {},
   "outputs": [
    {
     "name": "stdout",
     "output_type": "stream",
     "text": [
      "[*********************100%***********************]  1 of 1 completed\n"
     ]
    }
   ],
   "source": [
    "ETH = yf.download('ETH-USD', start='2022-12-23', end='2022-12-24',  interval = '1m')"
   ]
  },
  {
   "cell_type": "code",
   "execution_count": 6,
   "id": "0c171c0d",
   "metadata": {},
   "outputs": [
    {
     "data": {
      "text/html": [
       "<div>\n",
       "<style scoped>\n",
       "    .dataframe tbody tr th:only-of-type {\n",
       "        vertical-align: middle;\n",
       "    }\n",
       "\n",
       "    .dataframe tbody tr th {\n",
       "        vertical-align: top;\n",
       "    }\n",
       "\n",
       "    .dataframe thead th {\n",
       "        text-align: right;\n",
       "    }\n",
       "</style>\n",
       "<table border=\"1\" class=\"dataframe\">\n",
       "  <thead>\n",
       "    <tr style=\"text-align: right;\">\n",
       "      <th></th>\n",
       "      <th>Open</th>\n",
       "      <th>High</th>\n",
       "      <th>Low</th>\n",
       "      <th>Close</th>\n",
       "      <th>Adj Close</th>\n",
       "      <th>Volume</th>\n",
       "    </tr>\n",
       "    <tr>\n",
       "      <th>Datetime</th>\n",
       "      <th></th>\n",
       "      <th></th>\n",
       "      <th></th>\n",
       "      <th></th>\n",
       "      <th></th>\n",
       "      <th></th>\n",
       "    </tr>\n",
       "  </thead>\n",
       "  <tbody>\n",
       "    <tr>\n",
       "      <th>2022-12-23 00:00:00+00:00</th>\n",
       "      <td>1218.079346</td>\n",
       "      <td>1218.079346</td>\n",
       "      <td>1218.079346</td>\n",
       "      <td>1218.079346</td>\n",
       "      <td>1218.079346</td>\n",
       "      <td>0</td>\n",
       "    </tr>\n",
       "    <tr>\n",
       "      <th>2022-12-23 00:01:00+00:00</th>\n",
       "      <td>1218.119385</td>\n",
       "      <td>1218.119385</td>\n",
       "      <td>1218.119385</td>\n",
       "      <td>1218.119385</td>\n",
       "      <td>1218.119385</td>\n",
       "      <td>0</td>\n",
       "    </tr>\n",
       "    <tr>\n",
       "      <th>2022-12-23 00:02:00+00:00</th>\n",
       "      <td>1218.201294</td>\n",
       "      <td>1218.201294</td>\n",
       "      <td>1218.201294</td>\n",
       "      <td>1218.201294</td>\n",
       "      <td>1218.201294</td>\n",
       "      <td>802304</td>\n",
       "    </tr>\n",
       "    <tr>\n",
       "      <th>2022-12-23 00:03:00+00:00</th>\n",
       "      <td>1218.357910</td>\n",
       "      <td>1218.357910</td>\n",
       "      <td>1218.357910</td>\n",
       "      <td>1218.357910</td>\n",
       "      <td>1218.357910</td>\n",
       "      <td>1193984</td>\n",
       "    </tr>\n",
       "    <tr>\n",
       "      <th>2022-12-23 00:04:00+00:00</th>\n",
       "      <td>1217.840820</td>\n",
       "      <td>1217.840820</td>\n",
       "      <td>1217.840820</td>\n",
       "      <td>1217.840820</td>\n",
       "      <td>1217.840820</td>\n",
       "      <td>0</td>\n",
       "    </tr>\n",
       "    <tr>\n",
       "      <th>...</th>\n",
       "      <td>...</td>\n",
       "      <td>...</td>\n",
       "      <td>...</td>\n",
       "      <td>...</td>\n",
       "      <td>...</td>\n",
       "      <td>...</td>\n",
       "    </tr>\n",
       "    <tr>\n",
       "      <th>2022-12-23 23:55:00+00:00</th>\n",
       "      <td>1220.201172</td>\n",
       "      <td>1220.201172</td>\n",
       "      <td>1220.201172</td>\n",
       "      <td>1220.201172</td>\n",
       "      <td>1220.201172</td>\n",
       "      <td>3086848</td>\n",
       "    </tr>\n",
       "    <tr>\n",
       "      <th>2022-12-23 23:56:00+00:00</th>\n",
       "      <td>1220.282959</td>\n",
       "      <td>1220.282959</td>\n",
       "      <td>1220.282959</td>\n",
       "      <td>1220.282959</td>\n",
       "      <td>1220.282959</td>\n",
       "      <td>0</td>\n",
       "    </tr>\n",
       "    <tr>\n",
       "      <th>2022-12-23 23:57:00+00:00</th>\n",
       "      <td>1220.159180</td>\n",
       "      <td>1220.159180</td>\n",
       "      <td>1220.159180</td>\n",
       "      <td>1220.159180</td>\n",
       "      <td>1220.159180</td>\n",
       "      <td>0</td>\n",
       "    </tr>\n",
       "    <tr>\n",
       "      <th>2022-12-23 23:58:00+00:00</th>\n",
       "      <td>1220.077393</td>\n",
       "      <td>1220.077393</td>\n",
       "      <td>1220.077393</td>\n",
       "      <td>1220.077393</td>\n",
       "      <td>1220.077393</td>\n",
       "      <td>1719296</td>\n",
       "    </tr>\n",
       "    <tr>\n",
       "      <th>2022-12-24 00:00:00+00:00</th>\n",
       "      <td>1220.117920</td>\n",
       "      <td>1220.117920</td>\n",
       "      <td>1220.117920</td>\n",
       "      <td>1220.117920</td>\n",
       "      <td>1220.117920</td>\n",
       "      <td>34304</td>\n",
       "    </tr>\n",
       "  </tbody>\n",
       "</table>\n",
       "<p>1430 rows × 6 columns</p>\n",
       "</div>"
      ],
      "text/plain": [
       "                                  Open         High          Low        Close  \\\n",
       "Datetime                                                                        \n",
       "2022-12-23 00:00:00+00:00  1218.079346  1218.079346  1218.079346  1218.079346   \n",
       "2022-12-23 00:01:00+00:00  1218.119385  1218.119385  1218.119385  1218.119385   \n",
       "2022-12-23 00:02:00+00:00  1218.201294  1218.201294  1218.201294  1218.201294   \n",
       "2022-12-23 00:03:00+00:00  1218.357910  1218.357910  1218.357910  1218.357910   \n",
       "2022-12-23 00:04:00+00:00  1217.840820  1217.840820  1217.840820  1217.840820   \n",
       "...                                ...          ...          ...          ...   \n",
       "2022-12-23 23:55:00+00:00  1220.201172  1220.201172  1220.201172  1220.201172   \n",
       "2022-12-23 23:56:00+00:00  1220.282959  1220.282959  1220.282959  1220.282959   \n",
       "2022-12-23 23:57:00+00:00  1220.159180  1220.159180  1220.159180  1220.159180   \n",
       "2022-12-23 23:58:00+00:00  1220.077393  1220.077393  1220.077393  1220.077393   \n",
       "2022-12-24 00:00:00+00:00  1220.117920  1220.117920  1220.117920  1220.117920   \n",
       "\n",
       "                             Adj Close   Volume  \n",
       "Datetime                                         \n",
       "2022-12-23 00:00:00+00:00  1218.079346        0  \n",
       "2022-12-23 00:01:00+00:00  1218.119385        0  \n",
       "2022-12-23 00:02:00+00:00  1218.201294   802304  \n",
       "2022-12-23 00:03:00+00:00  1218.357910  1193984  \n",
       "2022-12-23 00:04:00+00:00  1217.840820        0  \n",
       "...                                ...      ...  \n",
       "2022-12-23 23:55:00+00:00  1220.201172  3086848  \n",
       "2022-12-23 23:56:00+00:00  1220.282959        0  \n",
       "2022-12-23 23:57:00+00:00  1220.159180        0  \n",
       "2022-12-23 23:58:00+00:00  1220.077393  1719296  \n",
       "2022-12-24 00:00:00+00:00  1220.117920    34304  \n",
       "\n",
       "[1430 rows x 6 columns]"
      ]
     },
     "execution_count": 6,
     "metadata": {},
     "output_type": "execute_result"
    }
   ],
   "source": [
    "ETH"
   ]
  },
  {
   "cell_type": "code",
   "execution_count": 7,
   "id": "b7f6e3cd",
   "metadata": {},
   "outputs": [
    {
     "data": {
      "text/html": [
       "<div>\n",
       "<style scoped>\n",
       "    .dataframe tbody tr th:only-of-type {\n",
       "        vertical-align: middle;\n",
       "    }\n",
       "\n",
       "    .dataframe tbody tr th {\n",
       "        vertical-align: top;\n",
       "    }\n",
       "\n",
       "    .dataframe thead th {\n",
       "        text-align: right;\n",
       "    }\n",
       "</style>\n",
       "<table border=\"1\" class=\"dataframe\">\n",
       "  <thead>\n",
       "    <tr style=\"text-align: right;\">\n",
       "      <th></th>\n",
       "      <th>Open</th>\n",
       "      <th>High</th>\n",
       "      <th>Low</th>\n",
       "      <th>Close</th>\n",
       "      <th>Adj Close</th>\n",
       "      <th>Volume</th>\n",
       "    </tr>\n",
       "  </thead>\n",
       "  <tbody>\n",
       "    <tr>\n",
       "      <th>count</th>\n",
       "      <td>1430.000000</td>\n",
       "      <td>1430.000000</td>\n",
       "      <td>1430.000000</td>\n",
       "      <td>1430.000000</td>\n",
       "      <td>1430.000000</td>\n",
       "      <td>1.430000e+03</td>\n",
       "    </tr>\n",
       "    <tr>\n",
       "      <th>mean</th>\n",
       "      <td>1220.680242</td>\n",
       "      <td>1220.680242</td>\n",
       "      <td>1220.680242</td>\n",
       "      <td>1220.680242</td>\n",
       "      <td>1220.680242</td>\n",
       "      <td>1.280233e+06</td>\n",
       "    </tr>\n",
       "    <tr>\n",
       "      <th>std</th>\n",
       "      <td>2.290149</td>\n",
       "      <td>2.290149</td>\n",
       "      <td>2.290149</td>\n",
       "      <td>2.290149</td>\n",
       "      <td>2.290149</td>\n",
       "      <td>5.043033e+06</td>\n",
       "    </tr>\n",
       "    <tr>\n",
       "      <th>min</th>\n",
       "      <td>1215.994873</td>\n",
       "      <td>1215.994873</td>\n",
       "      <td>1215.994873</td>\n",
       "      <td>1215.994873</td>\n",
       "      <td>1215.994873</td>\n",
       "      <td>0.000000e+00</td>\n",
       "    </tr>\n",
       "    <tr>\n",
       "      <th>25%</th>\n",
       "      <td>1219.174011</td>\n",
       "      <td>1219.174011</td>\n",
       "      <td>1219.174011</td>\n",
       "      <td>1219.174011</td>\n",
       "      <td>1219.174011</td>\n",
       "      <td>0.000000e+00</td>\n",
       "    </tr>\n",
       "    <tr>\n",
       "      <th>50%</th>\n",
       "      <td>1220.140808</td>\n",
       "      <td>1220.140808</td>\n",
       "      <td>1220.140808</td>\n",
       "      <td>1220.140808</td>\n",
       "      <td>1220.140808</td>\n",
       "      <td>1.469440e+05</td>\n",
       "    </tr>\n",
       "    <tr>\n",
       "      <th>75%</th>\n",
       "      <td>1222.474640</td>\n",
       "      <td>1222.474640</td>\n",
       "      <td>1222.474640</td>\n",
       "      <td>1222.474640</td>\n",
       "      <td>1222.474640</td>\n",
       "      <td>8.770560e+05</td>\n",
       "    </tr>\n",
       "    <tr>\n",
       "      <th>max</th>\n",
       "      <td>1226.998779</td>\n",
       "      <td>1226.998779</td>\n",
       "      <td>1226.998779</td>\n",
       "      <td>1226.998779</td>\n",
       "      <td>1226.998779</td>\n",
       "      <td>1.032131e+08</td>\n",
       "    </tr>\n",
       "  </tbody>\n",
       "</table>\n",
       "</div>"
      ],
      "text/plain": [
       "              Open         High          Low        Close    Adj Close  \\\n",
       "count  1430.000000  1430.000000  1430.000000  1430.000000  1430.000000   \n",
       "mean   1220.680242  1220.680242  1220.680242  1220.680242  1220.680242   \n",
       "std       2.290149     2.290149     2.290149     2.290149     2.290149   \n",
       "min    1215.994873  1215.994873  1215.994873  1215.994873  1215.994873   \n",
       "25%    1219.174011  1219.174011  1219.174011  1219.174011  1219.174011   \n",
       "50%    1220.140808  1220.140808  1220.140808  1220.140808  1220.140808   \n",
       "75%    1222.474640  1222.474640  1222.474640  1222.474640  1222.474640   \n",
       "max    1226.998779  1226.998779  1226.998779  1226.998779  1226.998779   \n",
       "\n",
       "             Volume  \n",
       "count  1.430000e+03  \n",
       "mean   1.280233e+06  \n",
       "std    5.043033e+06  \n",
       "min    0.000000e+00  \n",
       "25%    0.000000e+00  \n",
       "50%    1.469440e+05  \n",
       "75%    8.770560e+05  \n",
       "max    1.032131e+08  "
      ]
     },
     "execution_count": 7,
     "metadata": {},
     "output_type": "execute_result"
    }
   ],
   "source": [
    "ETH.describe()"
   ]
  },
  {
   "cell_type": "code",
   "execution_count": 8,
   "id": "f5090534",
   "metadata": {},
   "outputs": [],
   "source": [
    "S1_0 = BTC['Open'][0]\n",
    "S2_0 = ETH['Open'][0]"
   ]
  },
  {
   "cell_type": "code",
   "execution_count": 9,
   "id": "f3876634",
   "metadata": {},
   "outputs": [
    {
     "data": {
      "text/plain": [
       "16829.64453125"
      ]
     },
     "execution_count": 9,
     "metadata": {},
     "output_type": "execute_result"
    }
   ],
   "source": [
    "S1_0"
   ]
  },
  {
   "cell_type": "code",
   "execution_count": 10,
   "id": "4942dd00",
   "metadata": {},
   "outputs": [
    {
     "data": {
      "text/plain": [
       "1218.079345703125"
      ]
     },
     "execution_count": 10,
     "metadata": {},
     "output_type": "execute_result"
    }
   ],
   "source": [
    "S2_0"
   ]
  },
  {
   "cell_type": "code",
   "execution_count": 11,
   "id": "b2da9ed2",
   "metadata": {},
   "outputs": [],
   "source": [
    "lr1 = np.log(BTC['Adj Close'] / BTC['Adj Close'].shift(1))\n",
    "lr2 = np.log(ETH['Adj Close'] / ETH['Adj Close'].shift(1))\n",
    "mu_1 = lr1.mean() * 1429\n",
    "mu_2 = lr2.mean() * 1429\n",
    "sigma_1 = lr1.std() * np.sqrt(1429)\n",
    "sigma_2 = lr2.std() * np.sqrt(1429)\n",
    "rho = lr1.corr(lr2)\n",
    "z_0 = 0.000\n",
    "gamma = 0.4 \n",
    "delta = 1\n",
    "T = 1\n",
    "M = len(BTC)"
   ]
  },
  {
   "cell_type": "code",
   "execution_count": 12,
   "id": "70f01dad",
   "metadata": {},
   "outputs": [
    {
     "name": "stdout",
     "output_type": "stream",
     "text": [
      "0.8859511945134718\n"
     ]
    }
   ],
   "source": [
    "print (rho)"
   ]
  },
  {
   "cell_type": "code",
   "execution_count": 13,
   "id": "4357bbe6",
   "metadata": {},
   "outputs": [],
   "source": [
    "result = linregress(np.log(BTC['Adj Close']), np.log(ETH['Adj Close']))\n",
    "beta = result.slope"
   ]
  },
  {
   "cell_type": "code",
   "execution_count": 14,
   "id": "98464d20",
   "metadata": {},
   "outputs": [
    {
     "data": {
      "text/plain": [
       "1.0554163977000377"
      ]
     },
     "execution_count": 14,
     "metadata": {},
     "output_type": "execute_result"
    }
   ],
   "source": [
    "beta"
   ]
  },
  {
   "cell_type": "code",
   "execution_count": 15,
   "id": "fe2dd341",
   "metadata": {},
   "outputs": [],
   "source": [
    "dt = T/M\n",
    "S1 = np.zeros((M + 1, 1))\n",
    "S2 = np.zeros((M + 1, 1))\n",
    "z =  np.zeros((M + 1, 1))\n",
    "a =  np.zeros((M + 1, 1))\n",
    "b =  np.zeros((M + 1, 1))\n",
    "c =  np.zeros((M + 1, 1))\n",
    "Pi_1 = np.zeros((M + 1, 1))\n",
    "Pi_2 = np.zeros((M + 1, 1))"
   ]
  },
  {
   "cell_type": "code",
   "execution_count": 16,
   "id": "93c98d3e",
   "metadata": {},
   "outputs": [],
   "source": [
    "tt = np.linspace(0, 1, M + 1)\n",
    "z[0] = z_0\n",
    "S1[0] = S1_0\n",
    "S2[0] = S2_0\n",
    "sigma_beta = np.sqrt(sigma_1 ** 2 + beta ** 2 * sigma_2 ** 2 + 2 * beta * sigma_1 * sigma_2 * rho)\n",
    "eta = (-1/delta) * (mu_1 - sigma_1 ** 2/2 + beta*(mu_2 - sigma_2 ** 2/2))\n",
    "rn = np.random.standard_normal(z.shape)\n",
    "rn1 = np.random.standard_normal(S1.shape) \n",
    "rn2 = np.random.standard_normal(S2.shape) \n",
    "for t in range(1, M + 1):\n",
    "    z[t] = z[t-1]* (1 - delta * (eta - z[t-1])) * dt + sigma_beta * np.sqrt(dt)*((sigma_1 + beta * sigma_2 * rho)/ sigma_beta * rn1[t] + beta * (sigma_2 * np.sqrt(1-rho ** 2)/sigma_beta) * rn1[t]);\n",
    "    S1[t] = BTC['Adj Close'][t-1]\n",
    "    S2[t] = ETH['Adj Close'][t-1]"
   ]
  },
  {
   "cell_type": "code",
   "execution_count": 17,
   "id": "4c900971",
   "metadata": {},
   "outputs": [
    {
     "data": {
      "text/plain": [
       "Text(0.5, 1.0, 'Cryptocurrency Price')"
      ]
     },
     "execution_count": 17,
     "metadata": {},
     "output_type": "execute_result"
    },
    {
     "data": {
      "image/png": "[encoded data removed]",
      "text/plain": [
       "<Figure size 720x288 with 1 Axes>"
      ]
     },
     "metadata": {
      "needs_background": "light"
     },
     "output_type": "display_data"
    }
   ],
   "source": [
    "plt.figure(figsize=(10, 4))\n",
    "plt.plot(tt, S1, 'b', lw=1.5, label='Ethereum')\n",
    "plt.plot(tt, S2, 'r', lw=1.5, label='Bitcoin')\n",
    "plt.legend(loc=0)\n",
    "plt.xlabel('Time')\n",
    "plt.ylabel('$')\n",
    "plt.title('Cryptocurrency Price')\n"
   ]
  },
  {
   "cell_type": "code",
   "execution_count": 18,
   "id": "34964b3b",
   "metadata": {},
   "outputs": [
    {
     "data": {
      "text/plain": [
       "Text(0.5, 1.0, 'Cryptocurrency Price')"
      ]
     },
     "execution_count": 18,
     "metadata": {},
     "output_type": "execute_result"
    },
    {
     "data": {
      "image/png": "[encoded data removed]",
      "text/plain": [
       "<Figure size 720x288 with 1 Axes>"
      ]
     },
     "metadata": {
      "needs_background": "light"
     },
     "output_type": "display_data"
    }
   ],
   "source": [
    "plt.figure(figsize=(10, 4))\n",
    "plt.plot(tt, S2, 'r', lw=1.5, label='Stock 2')\n",
    "plt.legend(loc=0)\n",
    "plt.xlabel('Time')\n",
    "plt.ylabel('$')\n",
    "plt.title('Cryptocurrency Price')"
   ]
  },
  {
   "cell_type": "code",
   "execution_count": 19,
   "id": "f7aaa722",
   "metadata": {},
   "outputs": [
    {
     "data": {
      "text/plain": [
       "Text(0.5, 1.0, 'z')"
      ]
     },
     "execution_count": 19,
     "metadata": {},
     "output_type": "execute_result"
    },
    {
     "data": {
      "image/png": "[encoded data removed]",
      "text/plain": [
       "<Figure size 720x432 with 1 Axes>"
      ]
     },
     "metadata": {
      "needs_background": "light"
     },
     "output_type": "display_data"
    }
   ],
   "source": [
    "plt.figure(figsize=(10, 6))\n",
    "plt.plot(tt, z, 'g', lw=1.5)\n",
    "plt.xlabel('Time')\n",
    "plt.ylabel('Rate')\n",
    "plt.title('z')"
   ]
  },
  {
   "cell_type": "code",
   "execution_count": 20,
   "id": "e5a22ba3",
   "metadata": {},
   "outputs": [],
   "source": [
    "for t in range(1, M + 1):\n",
    "    a[t] = 0.5 * (T - t * dt)/((1-rho ** 2) * sigma_1 ** 2)\n",
    "    b[t] = - 0.25 * (T - t * dt) ** 2 * (sigma_1 ** 2 + beta * sigma_2 ** 2)/((1 - rho ** 2) * sigma_1 ** 2) - rho * mu_2 * (T - t * dt)/((1 - rho **2) * sigma_1 * sigma_2)\n",
    "    c[t] = 0.5 * mu_2 ** 2 * (T - t * dt)/((1 - rho ** 2) * sigma_2 ** 2) + 0.25 * (T - t * dt) ** 2 * (sigma_1 ** 2 + beta * sigma_2 ** 2 + 2 * sigma_1 * sigma_2 * beta *rho) * delta ** 2/((1 - rho ** 2) * sigma_1 ** 2) + 0.25 * (T - t * dt) ** 2 * mu_2 * delta * rho * (sigma_1 ** 2 + beta * sigma_2 ** 2) + 1/24 * (T - t * dt) ** 3 * (sigma_1 ** 2 + beta * sigma_2 ** 2) ** 2 * delta ** 2/((1 - rho ** 2) * sigma_1 ** 2)\n",
    "    Pi_1[t] = (1 / S1[t]) * ((mu_1 + delta * z[t])/(gamma * (1 - rho ** 2) * sigma_1 ** 2) + delta/gamma * (-2 * a[t] * (mu_1 + delta * z[t])-b[t]) - rho * mu_2/(gamma * (1 - rho ** 2) * sigma_1 * sigma_2))\n",
    "    Pi_2[t] = (1 / S2[t]) * (mu_2 / (gamma * (1 - rho ** 2) * sigma_2 ** 2) + delta * beta / gamma * (- 2 * a[t] * (mu_1 + delta * z[t]) - b[t]) - rho * (mu_1 + delta * z[t]) / (gamma * (1 - rho ** 2) * sigma_1 * sigma_2))"
   ]
  },
  {
   "cell_type": "code",
   "execution_count": 21,
   "id": "4437f71d",
   "metadata": {},
   "outputs": [
    {
     "data": {
      "text/plain": [
       "Text(0.5, 1.0, 'Weights')"
      ]
     },
     "execution_count": 21,
     "metadata": {},
     "output_type": "execute_result"
    },
    {
     "data": {
      "image/png": "[encoded data removed]",
      "text/plain": [
       "<Figure size 576x288 with 1 Axes>"
      ]
     },
     "metadata": {
      "needs_background": "light"
     },
     "output_type": "display_data"
    }
   ],
   "source": [
    "plt.figure(figsize=(8, 4))\n",
    "plt.plot(tt, Pi_2, 'r', lw=1.5, label='Ethereum')\n",
    "plt.plot(tt, Pi_1*8, 'b', lw=1.5, label='Bitcoin')\n",
    "plt.legend(loc=0)\n",
    "plt.xlabel('Time')\n",
    "plt.ylabel('%')\n",
    "plt.title('Weights')"
   ]
  },
  {
   "cell_type": "code",
   "execution_count": 22,
   "id": "ddc9b526",
   "metadata": {},
   "outputs": [
    {
     "data": {
      "text/plain": [
       "Text(0.5, 1.0, 'Cash')"
      ]
     },
     "execution_count": 22,
     "metadata": {},
     "output_type": "execute_result"
    },
    {
     "data": {
      "image/png": "[encoded data removed]",
      "text/plain": [
       "<Figure size 720x432 with 1 Axes>"
      ]
     },
     "metadata": {
      "needs_background": "light"
     },
     "output_type": "display_data"
    }
   ],
   "source": [
    "plt.figure(figsize=(10, 6))\n",
    "plt.plot(tt, Pi_1 * S1, 'b', lw=1.5, label='Wealth_Bitcoin')\n",
    "plt.plot(tt, Pi_2 * S2, 'r', lw=1.5, label='Wealth_Ethereum')\n",
    "plt.legend(loc=0)\n",
    "plt.xlabel('Time')\n",
    "plt.ylabel('$')\n",
    "plt.title('Cash')"
   ]
  },
  {
   "cell_type": "code",
   "execution_count": 23,
   "id": "d78779a6",
   "metadata": {},
   "outputs": [],
   "source": [
    "mu_1 = lr1.mean() * 1429\n",
    "mu_2 = lr2.mean() * 1429\n",
    "sigma_1 = lr1.std() * np.sqrt(1429)\n",
    "sigma_2 = lr2.std() * np.sqrt(1429)\n",
    "rho = lr1.corr(lr2)\n",
    "z_0 = 0.000\n",
    "gamma = 0.4 \n",
    "delta = 1\n",
    "T = 1\n",
    "M = 1440\n"
   ]
  },
  {
   "cell_type": "code",
   "execution_count": 24,
   "id": "eeef1f52",
   "metadata": {},
   "outputs": [
    {
     "name": "stdout",
     "output_type": "stream",
     "text": [
      "0.0016721983266255332\n"
     ]
    }
   ],
   "source": [
    "print (mu_2)\n"
   ]
  },
  {
   "cell_type": "code",
   "execution_count": null,
   "id": "5ebd4749",
   "metadata": {},
   "outputs": [],
   "source": []
  }
 ],
 "metadata": {
  "kernelspec": {
   "display_name": "Python 3 (ipykernel)",
   "language": "python",
   "name": "python3"
  },
  "language_info": {
   "codemirror_mode": {
    "name": "ipython",
    "version": 3
   },
   "file_extension": ".py",
   "mimetype": "text/x-python",
   "name": "python",
   "nbconvert_exporter": "python",
   "pygments_lexer": "ipython3",
   "version": "3.9.7"
  }
 },
 "nbformat": 4,
 "nbformat_minor": 5
}
